{
 "cells": [
  {
   "cell_type": "markdown",
   "metadata": {
    "collapsed": true,
    "pycharm": {
     "name": "#%% md\n"
    }
   },
   "source": [
    "# Practical coursework: COMP6481/8481 2022/23\n",
    "\n",
    "**Anna Jordanous**"
   ]
  },
  {
   "cell_type": "markdown",
   "metadata": {
    "pycharm": {
     "name": "#%% md\n"
    }
   },
   "source": [
    "# Part A\n",
    "\n",
    "This notebook contains the questions for Part A of the practical coursework. \n",
    "\n",
    "When you answer these questions, include in your submission for Part A your answers and the code that you used. \n",
    "\n",
    "The most straightforward way to do this is to complete Part A within this Jupyter notebook. *Please add your answers and code per question in the indicated cells.*\n",
    "\n",
    "You can instead submit a separate python file for Part A if this is preferable for you, but remember to include:\n",
    "* your code \n",
    "* comments that: \n",
    " * clearly indicate which question each code snippet relates to, \n",
    " * contain the answer to that question.\n",
    "\n",
    "Part A is worth 20 marks in total. Each question is annotated with the number of marks that question is worth. In each question, half the marks are awarded for the code and half the marks are awarded for correct answers to the question.\n",
    "\n",
    "***Cells are provided for you to complete your answers in this notebook. Please do not edit any of the existing code and markdown already provided in this Jupyter notebook.***"
   ]
  },
  {
   "cell_type": "markdown",
   "metadata": {},
   "source": [
    "## Important: do this first\n",
    "Run the following cells before attempting the questions.\n",
    "When each cell has completed running successfully, it will print an output message confirming that this cell has finished processing. \n",
    "\n",
    "If you have any issues, log into jupyter.kent.ac.uk and run this notebook on jupyter.kent.ac.uk.\n",
    "\n",
    "To run this notebook initially, you will need to be working with connection to the internet, as it reads files from online sources. "
   ]
  },
  {
   "cell_type": "code",
   "execution_count": 1,
   "metadata": {},
   "outputs": [
    {
     "ename": "ModuleNotFoundError",
     "evalue": "No module named 'nltk'",
     "output_type": "error",
     "traceback": [
      "\u001b[1;31m---------------------------------------------------------------------------\u001b[0m",
      "\u001b[1;31mModuleNotFoundError\u001b[0m                       Traceback (most recent call last)",
      "\u001b[1;32mc:\\Users\\Edison Konesha\\Desktop\\University\\Year 3 computer Science\\Term 2\\Solving problems with data and text COMP6481 and 8481\\Assignment\\EK436PartA&B\\practical_coursework_Part_A.ipynb Cell 4\u001b[0m line \u001b[0;36m2\n\u001b[0;32m      <a href='vscode-notebook-cell:/c%3A/Users/Edison%20Konesha/Desktop/University/Year%203%20computer%20Science/Term%202/Solving%20problems%20with%20data%20and%20text%20COMP6481%20and%208481/Assignment/EK436PartA%26B/practical_coursework_Part_A.ipynb#W3sZmlsZQ%3D%3D?line=0'>1</a>\u001b[0m \u001b[39m#import required/useful libraries\u001b[39;00m\n\u001b[1;32m----> <a href='vscode-notebook-cell:/c%3A/Users/Edison%20Konesha/Desktop/University/Year%203%20computer%20Science/Term%202/Solving%20problems%20with%20data%20and%20text%20COMP6481%20and%208481/Assignment/EK436PartA%26B/practical_coursework_Part_A.ipynb#W3sZmlsZQ%3D%3D?line=1'>2</a>\u001b[0m \u001b[39mimport\u001b[39;00m \u001b[39mnltk\u001b[39;00m\n\u001b[0;32m      <a href='vscode-notebook-cell:/c%3A/Users/Edison%20Konesha/Desktop/University/Year%203%20computer%20Science/Term%202/Solving%20problems%20with%20data%20and%20text%20COMP6481%20and%208481/Assignment/EK436PartA%26B/practical_coursework_Part_A.ipynb#W3sZmlsZQ%3D%3D?line=2'>3</a>\u001b[0m \u001b[39mimport\u001b[39;00m \u001b[39mpandas\u001b[39;00m \u001b[39mas\u001b[39;00m \u001b[39mpd\u001b[39;00m\n\u001b[0;32m      <a href='vscode-notebook-cell:/c%3A/Users/Edison%20Konesha/Desktop/University/Year%203%20computer%20Science/Term%202/Solving%20problems%20with%20data%20and%20text%20COMP6481%20and%208481/Assignment/EK436PartA%26B/practical_coursework_Part_A.ipynb#W3sZmlsZQ%3D%3D?line=3'>4</a>\u001b[0m \u001b[39mimport\u001b[39;00m \u001b[39mmatplotlib\u001b[39;00m\n",
      "\u001b[1;31mModuleNotFoundError\u001b[0m: No module named 'nltk'"
     ]
    }
   ],
   "source": [
    "#import required/useful libraries\n",
    "import nltk\n",
    "import pandas as pd\n",
    "import matplotlib\n",
    "import numpy as np\n",
    "import urllib.request\n",
    "\n",
    "print('finished processing import statements')\n",
    "\n",
    "# Note: these packages are all available if you run this notebook on jupyter.kent.ac.uk"
   ]
  },
  {
   "cell_type": "code",
   "execution_count": null,
   "metadata": {
    "pycharm": {
     "name": "#%% md\n"
    }
   },
   "outputs": [
    {
     "name": "stdout",
     "output_type": "stream",
     "text": [
      "finished setting up variables and functions for data readin\n"
     ]
    }
   ],
   "source": [
    "#Read in data\n",
    "prefix = \"https://raw.githubusercontent.com/annajordanous/COMP6481-8481/main/\"\n",
    "suffix = \".pdf.txt\"\n",
    "samples = [\"instb\", \"unitb\", \"instw\", \"unitw\"]\n",
    "b_env = [\"TheUniversityofBirmingham\", \"TheUniversityofSheffield\", \"UniversityofNottingham,The\", \n",
    "         \"TheUniversityofLancaster\", \"UniversityofBristol\", \"UniversityofSouthampton\", \n",
    "         \"TheUniversityofManchester\", \"UniversityofDundee\", \"UniversityofYork\"]\n",
    "w_env = [\"AstonUniversity\", \"BirkbeckCollege\", \"LiverpoolJohnMooresUniversity\",\n",
    "         \"ManchesterMetropolitanUniversity\", \"NottinghamTrentUniversity\", \"TheUniversityofHuddersfield\",\n",
    "         \"TheUniversityofWestLondon\", \"UniversityofEastLondon\", \"UniversityofStirling\"]\n",
    "k_env = [\"TheUniversityofKent\"]\n",
    "instb = {}\n",
    "instw = {}\n",
    "instk = {}\n",
    "unitb = {}\n",
    "unitw = {}\n",
    "unitk = {}\n",
    "\n",
    "def readURL(filename):\n",
    "    # open a connection to a URL using urllib\n",
    "    webUrl  = urllib.request.urlopen(filename)\n",
    "    # read the data from the URL and print it\n",
    "    data = webUrl.read()\n",
    "    return data\n",
    "    \n",
    "def readFiles(x, tag):\n",
    "    itag = \"inst\"+tag\n",
    "    filenameI = prefix+itag+\"/\"+itag+x+suffix\n",
    "    utag = \"unit\"+tag\n",
    "    filenameU = prefix+utag+\"/\"+utag+x+\"-11\"+suffix\n",
    "    dataI = str(readURL(filenameI))\n",
    "    dataU = str(readURL(filenameU))\n",
    "    return(dataI, dataU)\n",
    "\n",
    "print(\"finished setting up variables and functions for data readin\")\n"
   ]
  },
  {
   "cell_type": "code",
   "execution_count": null,
   "metadata": {},
   "outputs": [
    {
     "name": "stdout",
     "output_type": "stream",
     "text": [
      "Finished reading in textual data\n"
     ]
    }
   ],
   "source": [
    "# this cell may take some time to run\n",
    "\n",
    "# read in textual data \n",
    "for x in b_env:\n",
    "    (instb[x], unitb[x]) = readFiles(x, \"b\")\n",
    "    \n",
    "for x in w_env:\n",
    "    (instw[x], unitw[x]) = readFiles(x, \"w\")\n",
    "\n",
    "for x in k_env:\n",
    "    (instk[x], unitk[x]) = readFiles(x, \"k\")\n",
    "    \n",
    "print(\"Finished reading in textual data\")"
   ]
  },
  {
   "cell_type": "code",
   "execution_count": null,
   "metadata": {},
   "outputs": [
    {
     "name": "stdout",
     "output_type": "stream",
     "text": [
      "Finished reading in spreadsheet data\n"
     ]
    }
   ],
   "source": [
    "# this cell may take some time to run\n",
    "\n",
    "# read in spreadsheet data \n",
    "docAwards = pd.read_excel('https://github.com/annajordanous/COMP6481-8481/blob/main/sampleData/REF2021Results-SelectedSamples-DoctoralDegreesAwarded.xlsx?raw=true')\n",
    "researchIncome = pd.read_excel('https://github.com/annajordanous/COMP6481-8481/blob/main/sampleData/REF2021Results-SelectedSamples-ResearchIncome.xlsx?raw=true')\n",
    "researchIncomeInKind = pd.read_excel('https://github.com/annajordanous/COMP6481-8481/blob/main/sampleData/REF2021Results-SelectedSamples-ResearchIncomeInKind.xlsx?raw=true')\n",
    "resultsSummary = pd.read_excel('https://github.com/annajordanous/COMP6481-8481/blob/main/sampleData/REF2021Results-SelectedSamples-resultsSummary.xlsx?raw=true')\n",
    "# This file is just for information\n",
    "# https://github.com/annajordanous/COMP6481-8481/blob/main/sampleData/REF2021Results-SelectedSamples-selectionCommentary.xlsx\n",
    "\n",
    "print(\"Finished reading in spreadsheet data\")\n"
   ]
  },
  {
   "cell_type": "markdown",
   "metadata": {},
   "source": [
    "## Selected universities for comparison\n",
    "\n",
    "Our `env_better_than_kent` sample of 'Computer Science and Informatics' universities with similar REF outputs performance to Kent but *better* performance in environment is:\n",
    "* The University of Birmingham\n",
    "* The University of Sheffield\n",
    "* University of Nottingham, The\n",
    "* The University of Lancaster\n",
    "* University of Bristol\n",
    "* University of Southampton\n",
    "* The University of Manchester\n",
    "* University of Dundee\n",
    "* University of York\n",
    "\n",
    "Our `env_worse_than_kent` sample of 'Computer Science and Informatics' universities with similar REF outputs performance to Kent but *worse* performance in environment is:\n",
    "* Aston University\n",
    "* Birkbeck College\n",
    "* Liverpool John Moores University\n",
    "* Manchester Metropolitan University\n",
    "* Nottingham Trent University\n",
    "* The University of Huddersfield\n",
    "* The University of West London\n",
    "* University of East London\n",
    "* University of Stirling"
   ]
  },
  {
   "cell_type": "markdown",
   "metadata": {},
   "source": [
    "## The data\n",
    "\n",
    "### data frames\n",
    "\n",
    "* `resultsSummary` gives a summary of all REF results data for the above selected universities and Kent overall, for outputs, for impact and for environment\n",
    "* `docAwards` gives a summary of all REF data for the above selected universities and Kent for the number of doctoral degrees awarded per year at each university\n",
    "* `researchIncome` gives a summary of all REF data for the above selected universities and Kent for the amount of research income (funding) awarded per year at each university\n",
    "* `researchIncomeInKind`  gives a summary of all REF data for the above selected universities and Kent for the amount of research income in kind (non-financial donations that have monetary value) awarded per year at each university\n",
    "\n",
    "\n",
    "### text dictionaries and variables \n",
    "\n",
    "* `instb` is a dictionary of institution statements for the 'env_better_than_kent' sample, with the keys as provided in the list `b_env`: \n",
    " * ['TheUniversityofBirmingham', 'TheUniversityofSheffield', 'UniversityofNottingham,The', 'TheUniversityofLancaster', 'UniversityofBristol', 'UniversityofSouthampton', 'TheUniversityofManchester', 'UniversityofDundee', 'UniversityofYork']\n",
    "\n",
    "* `unitb` is a dictionary of unit statements for the 'env_better_than_kent' sample, with the keys as provided in the list `b_env`: \n",
    " * ['TheUniversityofBirmingham', 'TheUniversityofSheffield', 'UniversityofNottingham,The', 'TheUniversityofLancaster', 'UniversityofBristol', 'UniversityofSouthampton', 'TheUniversityofManchester', 'UniversityofDundee', 'UniversityofYork']\n",
    "\n",
    "* `instw` is a dictionary of institution statements for the 'env_worse_than_kent' sample, with the keys as provided in the list `w_env`: \n",
    " * ['AstonUniversity', 'BirkbeckCollege', 'LiverpoolJohnMooresUniversity', 'ManchesterMetropolitanUniversity', 'NottinghamTrentUniversity', 'TheUniversityofHuddersfield', 'TheUniversityofWestLondon', 'UniversityofEastLondon', 'UniversityofStirling']\n",
    "\n",
    "* `unitw` is a dictionary of unit statements for the 'env_worse_than_kent' sample, with the keys as provided in the list `w_env`: \n",
    " * ['AstonUniversity', 'BirkbeckCollege', 'LiverpoolJohnMooresUniversity', 'ManchesterMetropolitanUniversity', 'NottinghamTrentUniversity', 'TheUniversityofHuddersfield', 'TheUniversityofWestLondon', 'UniversityofEastLondon', 'UniversityofStirling']\n",
    "\n",
    "* `instk` is a dictionary of the (single) institution statement for Kent, with the key as provided in the list `k_env`: \n",
    " * [\"TheUniversityofKent\"]\n",
    "\n",
    "* `unitk` is a dictionary of the (single) unit statement for Kent, with the key as provided in the list `k_env`: \n",
    " * [\"TheUniversityofKent\"]\n",
    "\n",
    "Please refer to the slides for the coursework and the lecture on the coursework from Wednesday 8th March if you would like further explanation of these data and text.\n",
    "\n",
    "### Links\n",
    "\n",
    "All data and text are sourced from https://www.ref.ac.uk/\n",
    "\n",
    "Copies of each of these files are available at https://github.com/annajordanous/COMP6481-8481/"
   ]
  },
  {
   "cell_type": "markdown",
   "metadata": {},
   "source": [
    "**For Part A, we will focus on the unit environment statements for each university in our sample, i.e. the texts in the dictionaries** \n",
    "* `unitb`\n",
    "* `unitw`\n",
    "* `unitk`"
   ]
  },
  {
   "cell_type": "markdown",
   "metadata": {},
   "source": [
    "Some code to help you use the text dictionaries:\n",
    "\n",
    "The following code goes through each of the universities in the `env_better_than_kent` sample, and prints:\n",
    "* the key for that university in the above dictionaries\n",
    "* the first 200 characters of the unit environment statement (i.e. the statement written about the research environment at that Computer Science and Informatics deparatment at that university)\n",
    "* the first 200 characters of the institution environment statement (i.e. the statement written about the research environment across the whole of that university)\n",
    "\n"
   ]
  },
  {
   "cell_type": "code",
   "execution_count": null,
   "metadata": {},
   "outputs": [
    {
     "name": "stdout",
     "output_type": "stream",
     "text": [
      "TheUniversityofBirmingham\n",
      "b\"Unit-level environment template (REF5b)\\n Institution: University of Birmingham\\n Unit of Assessment: UoA11, Computer Science and Informatics\\n 1 Unit context and structure, research and impact stra\n",
      "b'Institutional level environment template (REF5a)\\n Institution: University of Birmingham\\n 1. Context and mission\\n Founded in 1900, The University of Birmingham (UoB) is a civic, research-intensive\n",
      "\n",
      "TheUniversityofSheffield\n",
      "b\"Unit-level environment template (REF5b)\\n Institution: University of Sheffield\\n Unit of Assessment: B-11 Computer Science and Informatics\\n 1. Unit context and structure, research and impact strate\n",
      "b\"Institutional level environment template (REF5a)\\n  Institution: University of Sheffield\\n  1. Context and mission\\nResearch at the University of Sheffield is distinctive and innovative. We drive in\n",
      "\n",
      "UniversityofNottingham,The\n",
      "b\"Unit-level environment template (REF5b)\\n Institution: University of Nottingham\\n Unit of Assessment: 11 \\xe2\\x80\\x93 Computer Science and Informatics\\n 1. Unit context and structure, research and i\n",
      "b'Institutional level environment template (REF5a)\\n Institution: University of Nottingham\\n 1. Context and mission\\n The University of Nottingham (UoN) was founded on the vision and philanthropic spi\n",
      "\n",
      "TheUniversityofLancaster\n",
      "b'Unit-level environment template (REF5b)\\n Institution: Lancaster University\\n Unit of Assessment: 11 Computer Science and Informatics\\n 1. Unit context and structure, research and impact strategy\\n \n",
      "b\"Institutional level environment template (REF5a)\\n Institution: Lancaster University\\n 1. Context and mission\\n 1.1.    Overview\\n 1.1.1   Our goal is research of world-leading quality, insight and \n",
      "\n",
      "UniversityofBristol\n",
      "b'Unit-level environment template (REF5b)\\n  Institution: University of Bristol\\n  Unit of Assessment: 11: Computer Science and Informatics\\n  1. Unit context and structure, research and impact strate\n",
      "b\"Institutional level environment statement (REF5a)\\n  Institution: University of Bristol\\n  1. Context and mission\\nMission, Culture and Affiliations\\nThe University of Bristol (UoB) is a research-in\n",
      "\n",
      "UniversityofSouthampton\n",
      "b'Unit-level environment template (REF5b)\\n Institution: University of Southampton\\n Unit of Assessment: 11 Computer Science and Informatics\\n 1. Unit context and structure, research and impact strate\n",
      "b\"Institutional level environment template (REF5a)\\n Institution: University of Southampton\\n 1. Context and mission\\n 1.1 Wider context\\n A comprehensive, research-intensive University with a strong \n",
      "\n",
      "TheUniversityofManchester\n",
      "b'Unit-level environment template (REF5b)\\n  Institution: The University of Manchester\\n  Unit of Assessment: 11 (Computer Science and Informatics)\\n  1. Unit context and structure, research and impac\n",
      "b'Institutional level environment template (REF5a)\\n Institution: The University of Manchester\\n  1. Context and mission\\n The University of Manchester (UoM) ranks among leading research universities \n",
      "\n",
      "UniversityofDundee\n",
      "b'Unit-level environment template (REF5b)\\n  Institution: University of Dundee (UoD)\\n  Unit of Assessment: UoA11 Computer Science and Informatics\\n  1. Unit context and structure, research and impact\n",
      "b\"Institutional level environment template (REF5a)\\n  Institution: University of Dundee\\n  1. Context and mission\\nThe University of Dundee is a medium-sized civic institution with a compact and thriv\n",
      "\n",
      "UniversityofYork\n",
      "b'Unit-level environment template (REF5b)\\n Institution: University of York\\n Unit of assessment: 11 - Computer Science and Informatics\\n 1. Unit context and structure, research and impact strategy\\n \n",
      "b\"Institutional level environment template (REF5a)\\n Institution: University of York\\n 1. Context and mission\\n Research culture and focus\\n     1. Since its foundation in 1963, the University of York\n",
      "\n"
     ]
    }
   ],
   "source": [
    "for b in b_env:\n",
    "    print(b)\n",
    "    print(unitb[b][0:200])\n",
    "    print(instb[b][0:200])\n",
    "    print()"
   ]
  },
  {
   "cell_type": "markdown",
   "metadata": {},
   "source": [
    "# Coursework questions for Part A:\n",
    "\n",
    "For each question, please add your code to the empty code cell below the question, and please add any written answers/comments to the empty markdown cell below the question, as indicated. \n",
    "\n",
    "***You are allowed to add additional code markdown cells as needed below this point. Please do not edit any of the existing code and markdown already provided in this Jupyter notebook.***\n"
   ]
  },
  {
   "cell_type": "markdown",
   "metadata": {
    "pycharm": {
     "name": "#%% md\n"
    }
   },
   "source": [
    "## Q1. [4 marks] \n",
    "\n",
    "We have defined a measure of `lexical richness` as: the number of unique tokens in a text, divided by the total number of tokens in that text. \n",
    "\n",
    "We have also defined a second measure: how many times, on average, is each token used in the text? \n",
    "\n",
    "Clarification: Tokenise the data using either nltk's word tokenizer (preferred) or the split() function (if necessary).\n",
    "\n",
    "*Without doing any additional processing on the texts*, calculate for each university in our data, including Kent,\n",
    "i.e. for all texts in the dictionaries unitb, unitw and unitk:\n",
    "* the lexical richness for the *unit* Environment statements (number of unique tokens in a statement text / the total number of tokens in that statement text)\n",
    "* how many times, on average, is each token used in the statement text\n",
    "\n",
    "Store the results in a new dictionary called `lr` , where the dictionary key is the university key (as in b_env, w_env and k_env), and the value is an ordered *list* of: \n",
    "* the calculated lexical richness for that university's statement text \n",
    "* how many times on average is a word used in that universities statement text?\n",
    "\n",
    "\n",
    "For example, if we have calculated that the unit Environment statement for \"TheUniversityofBirmingham\" has a lexical richness of 12.3, and that on average, tokens in this statement are used 5.5 times, one possible way we could add this to the `lr` dictionary is: \n",
    "\n",
    "`lr[\"TheUniversityofBirmingham\"] = [12.3, 5.5]`\n",
    "\n"
   ]
  },
  {
   "cell_type": "code",
   "execution_count": null,
   "metadata": {},
   "outputs": [],
   "source": [
    "# please add your code for Q1 here (double click to edit)\n",
    "lr = {}\n",
    "\n",
    "#function that calculates the lexical richness\n",
    "def lexical_richness(text):\n",
    "    tokens = nltk.word_tokenize(text)\n",
    "    uniqueTokens = len(set(tokens))\n",
    "    totalTokens = len(tokens)\n",
    "    return uniqueTokens / totalTokens, totalTokens / uniqueTokens\n",
    "\n",
    "#calculete the lexical richness in each university in the b environemnt \n",
    "for university in b_env:\n",
    "    unitText = unitb[university]\n",
    "    lr[university] = lexical_richness(unitText)\n",
    "    \n",
    "#calculete the lexical richness in each university in the w environemnt    \n",
    "for university in w_env:\n",
    "    unitText = unitw[university]\n",
    "    lr[university] = lexical_richness(unitText)\n",
    "    \n",
    "#calculete the lexical richness in each university in the k environemnt \n",
    "for university in k_env:\n",
    "    unitText = unitk[university]\n",
    "    lr[university] = lexical_richness(unitText)\n",
    "    "
   ]
  },
  {
   "cell_type": "code",
   "execution_count": null,
   "metadata": {},
   "outputs": [
    {
     "name": "stdout",
     "output_type": "stream",
     "text": [
      "{'TheUniversityofBirmingham': (0.2641345546430828, 3.785949177877429), 'TheUniversityofSheffield': (0.2712015566726123, 3.6872944693572496), 'UniversityofNottingham,The': (0.2590920087089751, 3.859632741985683), 'TheUniversityofLancaster': (0.25948248151719705, 3.853824713533602), 'UniversityofBristol': (0.2853174909343415, 3.5048674959437536), 'UniversityofSouthampton': (0.2543605788032851, 3.9314268142681428), 'TheUniversityofManchester': (0.287238644556597, 3.481425702811245), 'UniversityofDundee': (0.3265822784810127, 3.062015503875969), 'UniversityofYork': (0.2408542424822831, 4.151888667992048), 'AstonUniversity': (0.267954565781236, 3.7319759679572764), 'BirkbeckCollege': (0.2719693339722089, 3.6768851303735026), 'LiverpoolJohnMooresUniversity': (0.2331708928718923, 4.288699964576692), 'ManchesterMetropolitanUniversity': (0.2627327356910649, 3.806149231346082), 'NottinghamTrentUniversity': (0.2806430729391454, 3.5632449058054596), 'TheUniversityofHuddersfield': (0.2674941360437842, 3.7383997077091706), 'TheUniversityofWestLondon': (0.26931216931216934, 3.713163064833006), 'UniversityofEastLondon': (0.31765890135174, 3.148030783159801), 'UniversityofStirling': (0.28228029551218436, 3.542578125), 'TheUniversityofKent': (0.23711340206185566, 4.217391304347826)}\n"
     ]
    }
   ],
   "source": [
    "# please do not delete or edit this cell \n",
    "print(lr)\n"
   ]
  },
  {
   "cell_type": "markdown",
   "metadata": {},
   "source": [
    "## Q2. [4 marks]\n",
    "\n",
    "Create a Pandas data frame called `lr_df` from the dictionary `lr`. \n",
    "\n",
    "Then *transpose* lr_df, so that each row represents a university and the three columns represent the university key names, lexical richness and average token uses, respectively.\n"
   ]
  },
  {
   "cell_type": "code",
   "execution_count": null,
   "metadata": {},
   "outputs": [],
   "source": [
    "# please add your code for Q2 here (double click to edit)\n",
    "lr_df = pd.DataFrame(lr, index=['lexical_richness', 'avg_token_usage']).transpose()\n",
    "\n",
    "# Reset the index so that the university key names become a separate column\n",
    "lr_df.reset_index(inplace=True)\n",
    "lr_df.columns = ['university', 'lexical_richness', 'avg_token_usage']"
   ]
  },
  {
   "cell_type": "code",
   "execution_count": null,
   "metadata": {},
   "outputs": [
    {
     "data": {
      "text/html": [
       "<div>\n",
       "<style scoped>\n",
       "    .dataframe tbody tr th:only-of-type {\n",
       "        vertical-align: middle;\n",
       "    }\n",
       "\n",
       "    .dataframe tbody tr th {\n",
       "        vertical-align: top;\n",
       "    }\n",
       "\n",
       "    .dataframe thead th {\n",
       "        text-align: right;\n",
       "    }\n",
       "</style>\n",
       "<table border=\"1\" class=\"dataframe\">\n",
       "  <thead>\n",
       "    <tr style=\"text-align: right;\">\n",
       "      <th></th>\n",
       "      <th>university</th>\n",
       "      <th>lexical_richness</th>\n",
       "      <th>avg_token_usage</th>\n",
       "    </tr>\n",
       "  </thead>\n",
       "  <tbody>\n",
       "    <tr>\n",
       "      <th>0</th>\n",
       "      <td>TheUniversityofBirmingham</td>\n",
       "      <td>0.264135</td>\n",
       "      <td>3.785949</td>\n",
       "    </tr>\n",
       "    <tr>\n",
       "      <th>1</th>\n",
       "      <td>TheUniversityofSheffield</td>\n",
       "      <td>0.271202</td>\n",
       "      <td>3.687294</td>\n",
       "    </tr>\n",
       "    <tr>\n",
       "      <th>2</th>\n",
       "      <td>UniversityofNottingham,The</td>\n",
       "      <td>0.259092</td>\n",
       "      <td>3.859633</td>\n",
       "    </tr>\n",
       "    <tr>\n",
       "      <th>3</th>\n",
       "      <td>TheUniversityofLancaster</td>\n",
       "      <td>0.259482</td>\n",
       "      <td>3.853825</td>\n",
       "    </tr>\n",
       "    <tr>\n",
       "      <th>4</th>\n",
       "      <td>UniversityofBristol</td>\n",
       "      <td>0.285317</td>\n",
       "      <td>3.504867</td>\n",
       "    </tr>\n",
       "    <tr>\n",
       "      <th>5</th>\n",
       "      <td>UniversityofSouthampton</td>\n",
       "      <td>0.254361</td>\n",
       "      <td>3.931427</td>\n",
       "    </tr>\n",
       "    <tr>\n",
       "      <th>6</th>\n",
       "      <td>TheUniversityofManchester</td>\n",
       "      <td>0.287239</td>\n",
       "      <td>3.481426</td>\n",
       "    </tr>\n",
       "    <tr>\n",
       "      <th>7</th>\n",
       "      <td>UniversityofDundee</td>\n",
       "      <td>0.326582</td>\n",
       "      <td>3.062016</td>\n",
       "    </tr>\n",
       "    <tr>\n",
       "      <th>8</th>\n",
       "      <td>UniversityofYork</td>\n",
       "      <td>0.240854</td>\n",
       "      <td>4.151889</td>\n",
       "    </tr>\n",
       "    <tr>\n",
       "      <th>9</th>\n",
       "      <td>AstonUniversity</td>\n",
       "      <td>0.267955</td>\n",
       "      <td>3.731976</td>\n",
       "    </tr>\n",
       "    <tr>\n",
       "      <th>10</th>\n",
       "      <td>BirkbeckCollege</td>\n",
       "      <td>0.271969</td>\n",
       "      <td>3.676885</td>\n",
       "    </tr>\n",
       "    <tr>\n",
       "      <th>11</th>\n",
       "      <td>LiverpoolJohnMooresUniversity</td>\n",
       "      <td>0.233171</td>\n",
       "      <td>4.288700</td>\n",
       "    </tr>\n",
       "    <tr>\n",
       "      <th>12</th>\n",
       "      <td>ManchesterMetropolitanUniversity</td>\n",
       "      <td>0.262733</td>\n",
       "      <td>3.806149</td>\n",
       "    </tr>\n",
       "    <tr>\n",
       "      <th>13</th>\n",
       "      <td>NottinghamTrentUniversity</td>\n",
       "      <td>0.280643</td>\n",
       "      <td>3.563245</td>\n",
       "    </tr>\n",
       "    <tr>\n",
       "      <th>14</th>\n",
       "      <td>TheUniversityofHuddersfield</td>\n",
       "      <td>0.267494</td>\n",
       "      <td>3.738400</td>\n",
       "    </tr>\n",
       "    <tr>\n",
       "      <th>15</th>\n",
       "      <td>TheUniversityofWestLondon</td>\n",
       "      <td>0.269312</td>\n",
       "      <td>3.713163</td>\n",
       "    </tr>\n",
       "    <tr>\n",
       "      <th>16</th>\n",
       "      <td>UniversityofEastLondon</td>\n",
       "      <td>0.317659</td>\n",
       "      <td>3.148031</td>\n",
       "    </tr>\n",
       "    <tr>\n",
       "      <th>17</th>\n",
       "      <td>UniversityofStirling</td>\n",
       "      <td>0.282280</td>\n",
       "      <td>3.542578</td>\n",
       "    </tr>\n",
       "    <tr>\n",
       "      <th>18</th>\n",
       "      <td>TheUniversityofKent</td>\n",
       "      <td>0.237113</td>\n",
       "      <td>4.217391</td>\n",
       "    </tr>\n",
       "  </tbody>\n",
       "</table>\n",
       "</div>"
      ],
      "text/plain": [
       "                          university  lexical_richness  avg_token_usage\n",
       "0          TheUniversityofBirmingham          0.264135         3.785949\n",
       "1           TheUniversityofSheffield          0.271202         3.687294\n",
       "2         UniversityofNottingham,The          0.259092         3.859633\n",
       "3           TheUniversityofLancaster          0.259482         3.853825\n",
       "4                UniversityofBristol          0.285317         3.504867\n",
       "5            UniversityofSouthampton          0.254361         3.931427\n",
       "6          TheUniversityofManchester          0.287239         3.481426\n",
       "7                 UniversityofDundee          0.326582         3.062016\n",
       "8                   UniversityofYork          0.240854         4.151889\n",
       "9                    AstonUniversity          0.267955         3.731976\n",
       "10                   BirkbeckCollege          0.271969         3.676885\n",
       "11     LiverpoolJohnMooresUniversity          0.233171         4.288700\n",
       "12  ManchesterMetropolitanUniversity          0.262733         3.806149\n",
       "13         NottinghamTrentUniversity          0.280643         3.563245\n",
       "14       TheUniversityofHuddersfield          0.267494         3.738400\n",
       "15         TheUniversityofWestLondon          0.269312         3.713163\n",
       "16            UniversityofEastLondon          0.317659         3.148031\n",
       "17              UniversityofStirling          0.282280         3.542578\n",
       "18               TheUniversityofKent          0.237113         4.217391"
      ]
     },
     "execution_count": 9,
     "metadata": {},
     "output_type": "execute_result"
    }
   ],
   "source": [
    "# please do not delete or edit this cell \n",
    "lr_df"
   ]
  },
  {
   "cell_type": "markdown",
   "metadata": {},
   "source": [
    "## Q3. [4 marks] \n",
    "\n",
    "Choose an appropriate visualisation to create a visualisation of the data in your `lr_df` data frame from Q2. \n",
    "\n",
    "You can consult the lectures on visualisation and also use the following docs to help guide you and give you inspiration:\n",
    "* https://matplotlib.org/stable/plot_types/basic/index.html \n",
    "* https://realpython.com/pandas-plot-python/ \n",
    "* https://pandas.pydata.org/docs/reference/api/pandas.DataFrame.plot.html\n",
    "* https://www.w3schools.com/python/matplotlib_intro.asp \n",
    "\n",
    "Give a brief comment in the markdown box below about why you have chosen the visualisation you did, with reference to the type of data you are visualising. \n",
    "\n",
    "Also add a comment answering the question: \"Do you see any patterns in your visualisation of the data frame `lr_df`?\""
   ]
  },
  {
   "cell_type": "code",
   "execution_count": null,
   "metadata": {},
   "outputs": [
    {
     "data": {
      "image/png": "[encoded data removed]",
      "text/plain": [
       "<Figure size 432x288 with 1 Axes>"
      ]
     },
     "metadata": {
      "needs_background": "light"
     },
     "output_type": "display_data"
    }
   ],
   "source": [
    "# please add your code for Q3 here (double click to edit)\n",
    "import matplotlib.pyplot as plt\n",
    "\n",
    "#Make use of the pandas data frame from question 2 and display the data in a scatter plot\n",
    "plt.scatter(lr_df['lexical_richness'], lr_df['avg_token_usage']) \n",
    "plt.xlabel('Lexical Richness') #x-Axis of the scatter plot\n",
    "plt.ylabel('Average Token Usage') #y-Axis of the scatter plot\n",
    "plt.title('Scatter Plot of Lexical Richness vs Average Token Usage for all the uiversitites') #headline\n",
    "plt.show() #display the points\n"
   ]
  },
  {
   "cell_type": "markdown",
   "metadata": {},
   "source": [
    "**Please add your written answers/comments for Q3 here (double-click to edit)**\n",
    "\n",
    "\"Why did you chose the visualisation you did, with reference to the type of data you are visualising?\"\n",
    "\n",
    "Your answer:In order to visualise the link between two continuous variables in this example, lexical richness and average token usage I used a scatter plot, which is both straightforward and efficient. Scatter plots assist us in better grasping the data by enabling us to see whether there is any correlation or pattern between these two variables.\n",
    "\n",
    "\"Do you see any patterns in your visualisation of the data frame `lr_df`?\"\n",
    "\n",
    "Your answer: There does not seem to be a strong pattern or correlation between lexical richness and average token usage for the universities. The data points are scattered across the plot without forming any distinct trends or clusters.I think that that these two variables are not strongly related to each other, and different universities have different levels of lexical richness and token usage in their unit environment statements. Hence there will be no trend sicne the data which is collected is not dependant in any form. \n"
   ]
  },
  {
   "cell_type": "markdown",
   "metadata": {},
   "source": [
    "## Q4. [6 marks]\n",
    "\n",
    "For the *unit* environment statement for each university in our data, including Kent, (i.e. for all texts in the dictionaries unitb, unitw and unitk), perform the following pre-processing steps in this order:\n",
    "\n",
    "* tokenise the text using nltk.word_tokenize()\n",
    "* convert all text to lower case\n",
    "* perform POS-tagging using nltk.pos_tag()\n",
    "\n",
    "These steps will create a list of `POS-tagged tokens` for each university's unit environment statement. By `POS-tagged tokens`, this means tokens with tags indicating the relevant part of speech (POS). \n",
    "\n",
    "Using FreqDist, for each university's unit environment statement, calculate the frequency distribution for these POS-tagged tokens. (So you will calculate one frequency distribution per each university in our data.)\n",
    "\n",
    "Create a new dictionary called `fd` where the dictionary key is the university key (as in b_env, w_env and k_env), and the value is a list of the 10 most common `POS-tagged tokens` for that university's pre-processed unit environment statement.\n",
    "\n",
    "For example, if we have calculated a list of the 10 most common `POS-tagged tokens` from the pre-processed unit Environment statement for \"TheUniversityofBirmingham\", and stored that list in the list variable `mostCommon`, one possible way we could add this to the fd dictionary is:\n",
    "\n",
    "fd[\"TheUniversityofBirmingham\"] = mostCommon"
   ]
  },
  {
   "cell_type": "code",
   "execution_count": null,
   "metadata": {},
   "outputs": [],
   "source": [
    "import nltk\n",
    "from nltk import FreqDist\n",
    "\n",
    "fd = {'b_env': [], 'k_env': [], 'w_env': []}\n",
    "\n",
    "# Pre-processing function which preprocesses the text in order to\n",
    "def preprocessText(text):\n",
    "    # Tokenize\n",
    "    tokens = nltk.word_tokenize(text)             #tokenise the text\n",
    "    tokens = [token.lower() for token in tokens]  #convert the text to lower case\n",
    "    posTaggedTokens = nltk.pos_tag(tokens)        #pos tag the text\n",
    "\n",
    "    return posTaggedTokens\n",
    "\n",
    "# crate a new dictionary and add alll the preprocessed texts for each university\n",
    "preprocessedUniText= {}\n",
    "\n",
    "for university in b_env + w_env + k_env:\n",
    "    if university in b_env:\n",
    "        text = unitb[university]\n",
    "    elif university in w_env:\n",
    "        text = unitw[university]\n",
    "    else:\n",
    "        text = unitk[university]\n",
    "        \n",
    "    preprocessedUniText[university] = preprocessText(text)\n",
    "\n",
    "# Calculate frequency distributions and store the 10 most common POS-tagged tokens in a new dictionary\n",
    "fd = {} \n",
    "for university in preprocessedUniText:\n",
    "    posTaggedTokens = preprocessedUniText[university]\n",
    "    freqDistribution = FreqDist(posTaggedTokens)\n",
    "    mostCommon = freqDistribution.most_common(10) #store 10 most common tokens\n",
    "    fd[university] = mostCommon\n"
   ]
  },
  {
   "cell_type": "code",
   "execution_count": null,
   "metadata": {},
   "outputs": [
    {
     "name": "stdout",
     "output_type": "stream",
     "text": [
      "TheUniversityofBirmingham [((',', ','), 891), (('and', 'CC'), 476), (('the', 'DT'), 378), (('(', '('), 330), ((')', ')'), 330), (('.', '.'), 286), (('of', 'IN'), 281), (('in', 'IN'), 219), (('to', 'TO'), 186), (('research', 'NN'), 154)]\n",
      "TheUniversityofSheffield [((',', ','), 637), (('and', 'CC'), 456), (('.', '.'), 440), (('the', 'DT'), 363), (('(', '('), 302), ((')', ')'), 302), (('of', 'IN'), 288), (('in', 'IN'), 253), (('to', 'TO'), 244), (('a', 'DT'), 179)]\n",
      "UniversityofNottingham,The [((',', ','), 671), (('and', 'CC'), 490), (('the', 'DT'), 465), (('of', 'IN'), 320), ((')', ')'), 280), (('(', '('), 278), (('.', '.'), 275), (('in', 'IN'), 228), (('to', 'TO'), 197), (('research', 'NN'), 187)]\n",
      "TheUniversityofLancaster [((',', ','), 678), (('and', 'CC'), 465), (('the', 'DT'), 332), (('of', 'IN'), 287), ((')', ')'), 284), (('(', '('), 261), (('.', '.'), 256), (('to', 'TO'), 222), (('in', 'IN'), 188), (('research', 'NN'), 161)]\n",
      "UniversityofBristol [((',', ','), 783), (('and', 'CC'), 488), (('(', '('), 390), ((')', ')'), 390), (('the', 'DT'), 351), (('of', 'IN'), 272), (('to', 'TO'), 225), (('.', '.'), 210), (('in', 'IN'), 200), (('research', 'NN'), 159)]\n",
      "UniversityofSouthampton [((',', ','), 715), (('and', 'CC'), 476), (('the', 'DT'), 433), (('(', '('), 418), ((')', ')'), 417), (('.', '.'), 283), (('of', 'IN'), 269), (('to', 'TO'), 230), (('in', 'IN'), 204), (('for', 'IN'), 130)]\n",
      "TheUniversityofManchester [((',', ','), 892), ((')', ')'), 572), (('(', '('), 541), (('.', '.'), 361), (('the', 'DT'), 335), (('and', 'CC'), 277), ((':', ':'), 270), (('of', 'IN'), 233), (('in', 'IN'), 200), (('to', 'TO'), 196)]\n",
      "UniversityofDundee [((',', ','), 591), (('and', 'CC'), 364), (('(', '('), 286), ((')', ')'), 286), (('.', '.'), 245), (('the', 'DT'), 218), (('of', 'IN'), 181), (('to', 'TO'), 170), (('research', 'NN'), 151), (('in', 'IN'), 140)]\n",
      "UniversityofYork [(('and', 'CC'), 443), (('the', 'DT'), 430), ((',', ','), 389), (('.', '.'), 335), (('of', 'IN'), 291), (('to', 'TO'), 244), (('a', 'DT'), 212), (('research', 'NN'), 200), ((')', ')'), 174), (('(', '('), 173)]\n",
      "AstonUniversity [(('the', 'DT'), 446), ((',', ','), 426), (('and', 'CC'), 386), (('of', 'IN'), 288), (('(', '('), 261), ((')', ')'), 261), (('to', 'TO'), 261), (('in', 'IN'), 234), (('.', '.'), 227), (('research', 'NN'), 148)]\n",
      "BirkbeckCollege [((',', ','), 597), (('and', 'CC'), 426), (('the', 'DT'), 345), (('(', '('), 232), ((')', ')'), 232), (('.', '.'), 228), (('of', 'IN'), 207), (('in', 'IN'), 182), (('research', 'NN'), 178), (('to', 'TO'), 173)]\n",
      "LiverpoolJohnMooresUniversity [((',', ','), 603), (('the', 'DT'), 523), (('and', 'CC'), 444), (('to', 'TO'), 306), (('.', '.'), 284), (('in', 'IN'), 245), (('of', 'IN'), 237), (('research', 'NN'), 225), ((')', ')'), 221), (('for', 'IN'), 212)]\n",
      "ManchesterMetropolitanUniversity [(('and', 'CC'), 428), ((',', ','), 348), (('the', 'DT'), 292), (('of', 'IN'), 257), (('to', 'TO'), 216), (('.', '.'), 214), ((')', ')'), 178), (('(', '('), 177), (('in', 'IN'), 164), (('research', 'NN'), 152)]\n",
      "NottinghamTrentUniversity [((',', ','), 402), (('and', 'CC'), 356), (('the', 'DT'), 277), (('of', 'IN'), 227), (('.', '.'), 192), (('(', '('), 187), ((')', ')'), 185), (('to', 'TO'), 179), (('research', 'NN'), 170), (('in', 'IN'), 152)]\n",
      "TheUniversityofHuddersfield [((',', ','), 491), (('the', 'DT'), 460), (('and', 'CC'), 372), (('of', 'IN'), 313), (('to', 'TO'), 191), (('.', '.'), 185), (('in', 'IN'), 181), ((')', ')'), 178), (('research', 'NN'), 175), (('(', '('), 164)]\n",
      "TheUniversityofWestLondon [((',', ','), 707), (('and', 'CC'), 364), (('the', 'DT'), 268), (('of', 'IN'), 214), (('.', '.'), 211), ((')', ')'), 172), (('research', 'NN'), 170), (('(', '('), 163), (('in', 'IN'), 157), (('to', 'TO'), 154)]\n",
      "UniversityofEastLondon [((',', ','), 370), (('and', 'CC'), 264), (('the', 'DT'), 242), (('of', 'IN'), 168), (('research', 'NN'), 138), (('.', '.'), 127), (('in', 'IN'), 126), (('to', 'TO'), 118), (('a', 'DT'), 78), (('(', '('), 75)]\n",
      "UniversityofStirling [((',', ','), 490), (('and', 'CC'), 389), (('the', 'DT'), 222), (('of', 'IN'), 218), (('to', 'TO'), 189), (('in', 'IN'), 182), (('.', '.'), 159), (('(', '('), 141), ((')', ')'), 141), (('research', 'NN'), 131)]\n",
      "TheUniversityofKent [((',', ','), 849), (('(', '('), 379), (('and', 'CC'), 379), ((')', ')'), 378), (('the', 'DT'), 321), (('.', '.'), 313), (('of', 'IN'), 259), (('to', 'TO'), 201), (('research', 'NN'), 195), (('in', 'IN'), 186)]\n"
     ]
    }
   ],
   "source": [
    "# please do not delete or edit this cell \n",
    "for f in fd:\n",
    "    print(f, fd[f])"
   ]
  },
  {
   "cell_type": "markdown",
   "metadata": {},
   "source": [
    "## Q5. [2 marks] \n",
    "\n",
    "Looking at the original texts in `unitb`, `unitw` and `unitk`, suggest one extra pre-processing step you could do to improve the quality of this data. Briefly explain what that step is and why it would be useful. \n",
    "\n",
    "* You do not have to write the code to perform this step. * "
   ]
  },
  {
   "cell_type": "markdown",
   "metadata": {},
   "source": [
    "**Please add your written answers/comments for Q5 here (double-click to edit)**\n",
    "\n",
    "What additional pre-processing step would you suggest and why?\n",
    "\n",
    "One additonal preprocessing step tat i would do is remove the special characters. Referring to the text which i have analysed there is confusion since puntuation is considered as a token and in this case it has come up as a common token and if we had removed it we would have gotten a meaningful word instead. Hence, punctuationc it causes noise in text analysis and i think it should be and we can foucs in the dimensionality of the data. "
   ]
  },
  {
   "cell_type": "markdown",
   "metadata": {},
   "source": [
    "# End of part A. \n",
    "\n",
    "*Please submit this Jupyter notebook (or your Python file, as described above, if you preferred to work in a python file) as part of your submitted zip file.*\n",
    "\n"
   ]
  },
  {
   "cell_type": "markdown",
   "metadata": {},
   "source": [
    "# Please now see the coursework specification document on Moodle for Part B\n",
    "\n",
    "You are welcome to continue adding code/markdown comments to this file *below* this point, in cells below here, as you experiment with code for Part B. \n"
   ]
  },
  {
   "cell_type": "code",
   "execution_count": null,
   "metadata": {},
   "outputs": [],
   "source": []
  }
 ],
 "metadata": {
  "kernelspec": {
   "display_name": "Python 3 (ipykernel)",
   "language": "python",
   "name": "python3"
  },
  "language_info": {
   "codemirror_mode": {
    "name": "ipython",
    "version": 3
   },
   "file_extension": ".py",
   "mimetype": "text/x-python",
   "name": "python",
   "nbconvert_exporter": "python",
   "pygments_lexer": "ipython3",
   "version": "3.10.4"
  },
  "vscode": {
   "interpreter": {
    "hash": "1322063094e41d3e3e06a7cc7d9093f553a57061e5bbe07182dbc0955a20ca1e"
   }
  }
 },
 "nbformat": 4,
 "nbformat_minor": 1
}
